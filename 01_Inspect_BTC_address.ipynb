{
 "cells": [
  {
   "cell_type": "markdown",
   "id": "d8cab03e",
   "metadata": {},
   "source": [
    "# Exercise 1 | Inspecting a Bitcoin address"
   ]
  },
  {
   "cell_type": "code",
   "execution_count": 8,
   "id": "faf7eaf3",
   "metadata": {},
   "outputs": [],
   "source": [
    "%load_ext autoreload\n",
    "%autoreload 2"
   ]
  },
  {
   "cell_type": "code",
   "execution_count": 9,
   "id": "consolidated-breach",
   "metadata": {},
   "outputs": [],
   "source": [
    "import json\n",
    "from pprint import pprint\n",
    "\n",
    "import graphsense\n",
    "from graphsense.api import addresses_api, bulk_api, entities_api, general_api"
   ]
  },
  {
   "cell_type": "markdown",
   "id": "2fa83f7e-7d2f-4031-abff-c83d7087935a",
   "metadata": {
    "tags": []
   },
   "source": [
    "## Notebook Setup"
   ]
  },
  {
   "cell_type": "markdown",
   "id": "feb264fa-1cc3-433e-a13c-8b523beaac9d",
   "metadata": {},
   "source": [
    "This notebook assumes that you already followed the instructions outlined in `README.md` and installed the [GraphSense Python API](https://github.com/graphsense/graphsense-python) library locally.\n",
    "\n",
    "First, we must setup our notebook and establish a connection to some hosted GraphSense instance.\n",
    "\n",
    "We connect to a GraphSense instance hosted by [Iknaio](https://www.ikna.io/) and enter our API key in the provided `config.json` configuration file. An API key will be provided during the tutorial. If you would like to get an API key later, drop an email to contact@iknaio.com"
   ]
  },
  {
   "cell_type": "markdown",
   "id": "c2b2ef98-c724-4d6a-91cd-c8c741fcc57c",
   "metadata": {},
   "source": [
    "## Load host and API key from config"
   ]
  },
  {
   "cell_type": "code",
   "execution_count": 10,
   "id": "f56228b5-c581-4076-9feb-d0c38f573dab",
   "metadata": {},
   "outputs": [],
   "source": [
    "f = open('config.json')\n",
    "config = json.load(f)\n",
    "f.close()"
   ]
  },
  {
   "cell_type": "markdown",
   "id": "89c29226-e84e-4817-ab73-5f057fab2957",
   "metadata": {},
   "source": [
    "## Configure GraphSense client"
   ]
  },
  {
   "cell_type": "markdown",
   "id": "7b0810c9-31f2-47ab-8c71-c10e53bcc761",
   "metadata": {},
   "source": [
    "Now we configure the GraphSense Python library"
   ]
  },
  {
   "cell_type": "code",
   "execution_count": 11,
   "id": "illegal-victoria",
   "metadata": {},
   "outputs": [],
   "source": [
    "configuration = graphsense.Configuration(\n",
    "    host = config['graphsense']['host'],\n",
    "    api_key = {'api_key': config['graphsense']['api_key']})"
   ]
  },
  {
   "cell_type": "markdown",
   "id": "deab0739-6f4c-46f3-9aa2-8680d48cc4aa",
   "metadata": {},
   "source": [
    "We can test if our libary is working by retrieving summary statistics on supported ledgers."
   ]
  },
  {
   "cell_type": "code",
   "execution_count": 12,
   "id": "olympic-victory",
   "metadata": {
    "collapsed": true,
    "jupyter": {
     "outputs_hidden": true
    },
    "tags": []
   },
   "outputs": [
    {
     "name": "stdout",
     "output_type": "stream",
     "text": [
      "{'currencies': [{'name': 'btc',\n",
      "                 'no_address_relations': 8007069316,\n",
      "                 'no_addresses': 1118041725,\n",
      "                 'no_blocks': 785717,\n",
      "                 'no_entities': 506650685,\n",
      "                 'no_labels': 11478,\n",
      "                 'no_tagged_addresses': 269790236,\n",
      "                 'no_txs': 824652501,\n",
      "                 'timestamp': 1681686129},\n",
      "                {'name': 'bch',\n",
      "                 'no_address_relations': 2427116960,\n",
      "                 'no_addresses': 336951901,\n",
      "                 'no_blocks': 788823,\n",
      "                 'no_entities': 151973521,\n",
      "                 'no_labels': 143,\n",
      "                 'no_tagged_addresses': 15017913,\n",
      "                 'no_txs': 366604513,\n",
      "                 'timestamp': 1681768466},\n",
      "                {'name': 'ltc',\n",
      "                 'no_address_relations': 1725595832,\n",
      "                 'no_addresses': 182710535,\n",
      "                 'no_blocks': 2457669,\n",
      "                 'no_entities': 78384312,\n",
      "                 'no_labels': 181,\n",
      "                 'no_tagged_addresses': 23390025,\n",
      "                 'no_txs': 150254925,\n",
      "                 'timestamp': 1681656627},\n",
      "                {'name': 'zec',\n",
      "                 'no_address_relations': 114303754,\n",
      "                 'no_addresses': 7658128,\n",
      "                 'no_blocks': 2055365,\n",
      "                 'no_entities': 3829900,\n",
      "                 'no_labels': 17,\n",
      "                 'no_tagged_addresses': 1028380,\n",
      "                 'no_txs': 12692684,\n",
      "                 'timestamp': 1681768787},\n",
      "                {'name': 'eth',\n",
      "                 'no_address_relations': 719612413,\n",
      "                 'no_addresses': 253166608,\n",
      "                 'no_blocks': 17041766,\n",
      "                 'no_entities': 0,\n",
      "                 'no_labels': 25287,\n",
      "                 'no_tagged_addresses': 249448,\n",
      "                 'no_txs': 1919188401,\n",
      "                 'timestamp': 1681430399}],\n",
      " 'request_timestamp': '2023-04-18 11:31:44',\n",
      " 'version': '1.3.0'}\n"
     ]
    }
   ],
   "source": [
    "with graphsense.ApiClient(configuration) as api_client:\n",
    "    api_instance = general_api.GeneralApi(api_client)\n",
    "    api_response = api_instance.get_statistics()\n",
    "    pprint(api_response)"
   ]
  },
  {
   "cell_type": "markdown",
   "id": "critical-apparel",
   "metadata": {},
   "source": [
    "# Address API"
   ]
  },
  {
   "cell_type": "markdown",
   "id": "9a08b89f",
   "metadata": {},
   "source": [
    "We start by retrieving some summary statistics on the Internet Archive's donation address. The response basically corresponds to the data shown in the property box of the GraphSense dashboard."
   ]
  },
  {
   "cell_type": "code",
   "execution_count": 13,
   "id": "35595780-4e81-4068-a760-74aac7f63d8e",
   "metadata": {
    "collapsed": true,
    "jupyter": {
     "outputs_hidden": true
    },
    "tags": []
   },
   "outputs": [
    {
     "name": "stdout",
     "output_type": "stream",
     "text": [
      "{'address': '0x49bd56b275395130b41d67e1304b2d49f8a88725',\n",
      " 'balance': {'fiat_values': [{'code': 'eur', 'value': 809.53},\n",
      "                             {'code': 'usd', 'value': 891.7}],\n",
      "             'value': 443050788154310941},\n",
      " 'currency': 'eth',\n",
      " 'entity': 219247462,\n",
      " 'first_tx': {'height': 14680130,\n",
      "              'timestamp': 1651248019,\n",
      "              'tx_hash': 'a173b6c171138c8ec71f7f6badd931af8e62b9de8e9b7eaba3563b08877e436a'},\n",
      " 'in_degree': 6,\n",
      " 'is_contract': False,\n",
      " 'last_tx': {'height': 16828820,\n",
      "             'timestamp': 1678828811,\n",
      "             'tx_hash': '6c50c28d3b9d2674c72ca52dcbd5796851e960e067f829dfd8010dadcf17b994'},\n",
      " 'no_incoming_txs': 9,\n",
      " 'no_outgoing_txs': 16,\n",
      " 'out_degree': 8,\n",
      " 'status': 'clean',\n",
      " 'total_received': {'fiat_values': [{'code': 'eur', 'value': 1474.33},\n",
      "                                    {'code': 'usd', 'value': 1521.65}],\n",
      "                    'value': 1162991822615963000},\n",
      " 'total_spent': {'fiat_values': [{'code': 'eur', 'value': 1278.81},\n",
      "                                 {'code': 'usd', 'value': 1341.24}],\n",
      "                 'value': 719550407786279588}}\n"
     ]
    }
   ],
   "source": [
    "with graphsense.ApiClient(configuration) as api_client:\n",
    "    api_instance = addresses_api.AddressesApi(api_client)\n",
    "\n",
    "    currency = \"btc\"\n",
    "    address = '1Archive1n2C579dMsAu3iC6tWzuQJz8dN'\n",
    "    include_tags = True\n",
    "\n",
    "    try:\n",
    "        resp_addr = api_instance.get_address(currency, address)\n",
    "        pprint(resp_addr)\n",
    "    except graphsense.ApiException as e:\n",
    "        print(\"Exception when calling AddressesApi->get_address: %s\\n\" % e)"
   ]
  },
  {
   "cell_type": "code",
   "execution_count": 14,
   "id": "ba1dcadd-64c1-41d4-8885-0c446f71785b",
   "metadata": {},
   "outputs": [
    {
     "name": "stdout",
     "output_type": "stream",
     "text": [
      "Address 0x49bd56b275395130b41d67e1304b2d49f8a88725 received 1474.33 EUR from 6 addresses.\n"
     ]
    }
   ],
   "source": [
    "print(f\"Address {resp_addr.address} received {resp_addr.total_received.fiat_values[0].value} EUR \" + \n",
    "      f\"from {resp_addr.in_degree} addresses.\")"
   ]
  },
  {
   "cell_type": "markdown",
   "id": "fb4f86e5-9758-4fb5-ba9b-f8024c8f0a41",
   "metadata": {},
   "source": [
    "# Entities API"
   ]
  },
  {
   "cell_type": "markdown",
   "id": "755f4118",
   "metadata": {},
   "source": [
    "Next, we inspect the corresponding entity, which clusters other addresses that are likely conrolled by the owner of that address. The entity ID is contained in the address response."
   ]
  },
  {
   "cell_type": "code",
   "execution_count": 15,
   "id": "75d0df21-3240-413f-b96e-d0568e53af38",
   "metadata": {
    "collapsed": true,
    "jupyter": {
     "outputs_hidden": true
    },
    "tags": []
   },
   "outputs": [
    {
     "name": "stdout",
     "output_type": "stream",
     "text": [
      "{'balance': {'fiat_values': [{'code': 'eur', 'value': 0.0},\n",
      "                             {'code': 'usd', 'value': 0.0}],\n",
      "             'value': 0},\n",
      " 'currency': 'btc',\n",
      " 'entity': 219247462,\n",
      " 'first_tx': {'height': 450740,\n",
      "              'timestamp': 1485786538,\n",
      "              'tx_hash': 'a9341814cdd188fb3e6844ba418fff3ccdf8fd372ef0f59e1cdc20df68b66e16'},\n",
      " 'in_degree': 2,\n",
      " 'last_tx': {'height': 459518,\n",
      "             'timestamp': 1490825653,\n",
      "             'tx_hash': 'e55b13defa09bdcc1b8d98d119f8bdc0355d1b4044070e0f2fdcb339fe2342f4'},\n",
      " 'no_address_tags': 0,\n",
      " 'no_addresses': 2,\n",
      " 'no_incoming_txs': 2,\n",
      " 'no_outgoing_txs': 1,\n",
      " 'out_degree': 2,\n",
      " 'root_address': '32rtRy5G5Sza43uwCMjtyc4Mv7U2ABDXPS',\n",
      " 'total_received': {'fiat_values': [{'code': 'eur', 'value': 376.62},\n",
      "                                    {'code': 'usd', 'value': 405.91}],\n",
      "                    'value': 38774921},\n",
      " 'total_spent': {'fiat_values': [{'code': 'eur', 'value': 374.66},\n",
      "                                 {'code': 'usd', 'value': 403.41}],\n",
      "                 'value': 38774921}}\n"
     ]
    }
   ],
   "source": [
    "with graphsense.ApiClient(configuration) as api_client:\n",
    "    api_instance = entities_api.EntitiesApi(api_client)\n",
    "\n",
    "    currency = \"btc\" \n",
    "    entity = resp_addr.entity \n",
    "    include_tags = True \n",
    "\n",
    "    try:\n",
    "        resp_entity = api_instance.get_entity(currency, entity)\n",
    "        pprint(resp_entity)\n",
    "    except graphsense.ApiException as e:\n",
    "        print(\"Exception when calling EntitiesApi->get_entity: %s\\n\" % e)"
   ]
  },
  {
   "cell_type": "code",
   "execution_count": 16,
   "id": "541d0ca5-4f0e-48dd-b16d-b3b719ef18e1",
   "metadata": {},
   "outputs": [
    {
     "name": "stdout",
     "output_type": "stream",
     "text": [
      "Entity 219247462 likely controls 2 addresses, which received 376.62 EUR from 2 entities.\n"
     ]
    }
   ],
   "source": [
    "print(f\"Entity {resp_entity.entity} likely controls {resp_entity.no_addresses} addresses, \" +\n",
    "      f\"which received {resp_entity.total_received.fiat_values[0].value} EUR \" + \n",
    "      f\"from {resp_entity.in_degree} entities.\")"
   ]
  },
  {
   "cell_type": "markdown",
   "id": "5d819165-71bc-4191-9a78-5fac1bf80214",
   "metadata": {},
   "source": [
    "# Entity Neighbors"
   ]
  },
  {
   "cell_type": "markdown",
   "id": "16a504c2",
   "metadata": {},
   "source": [
    "Finally, we retrieve all neighbor entities receiving funds from our focus entity. Since it is more covenient to work with dataframes, we use the GraphSense Bulk API interface to retrieve a dataframe of receiving neighbor nodes."
   ]
  },
  {
   "cell_type": "code",
   "execution_count": 17,
   "id": "0dea96aa",
   "metadata": {},
   "outputs": [],
   "source": [
    "import pandas as pd\n",
    "\n",
    "data = {'entity': [resp_addr.entity]}\n",
    "\n",
    "entityDF = pd.DataFrame.from_dict(data)"
   ]
  },
  {
   "cell_type": "code",
   "execution_count": 18,
   "id": "4f81d4c5-991c-494a-b06c-3f194e60e752",
   "metadata": {},
   "outputs": [],
   "source": [
    "with graphsense.ApiClient(configuration) as api_client:\n",
    "    api_instance = bulk_api.BulkApi(api_client)\n",
    "\n",
    "    CURRENCY = \"btc\"\n",
    "    operation = \"list_entity_neighbors\"\n",
    "    body = {'entity': entityDF['entity'].to_list(),\n",
    "            'direction': 'out',\n",
    "            'include_labels': True}\n",
    "\n",
    "    try:\n",
    "        respDF = pd.read_csv(\n",
    "                    api_instance.bulk_csv(CURRENCY, operation, body=body,\n",
    "                                          num_pages=2,\n",
    "                                          _preload_content=False))\n",
    "    except graphsense.ApiException as e:\n",
    "        print(\"Exception when calling BulkApi->bulk_csv: %s\\n\" % e)"
   ]
  },
  {
   "cell_type": "code",
   "execution_count": 19,
   "id": "1a94e586",
   "metadata": {
    "collapsed": true
   },
   "outputs": [
    {
     "data": {
      "text/html": [
       "<div>\n",
       "<style scoped>\n",
       "    .dataframe tbody tr th:only-of-type {\n",
       "        vertical-align: middle;\n",
       "    }\n",
       "\n",
       "    .dataframe tbody tr th {\n",
       "        vertical-align: top;\n",
       "    }\n",
       "\n",
       "    .dataframe thead th {\n",
       "        text-align: right;\n",
       "    }\n",
       "</style>\n",
       "<table border=\"1\" class=\"dataframe\">\n",
       "  <thead>\n",
       "    <tr style=\"text-align: right;\">\n",
       "      <th></th>\n",
       "      <th>_error</th>\n",
       "      <th>_info</th>\n",
       "      <th>_request_entity</th>\n",
       "      <th>entity_actors</th>\n",
       "      <th>entity_balance_eur</th>\n",
       "      <th>entity_balance_usd</th>\n",
       "      <th>entity_balance_value</th>\n",
       "      <th>entity_best_address_tag_abuse</th>\n",
       "      <th>entity_best_address_tag_actor</th>\n",
       "      <th>entity_best_address_tag_address</th>\n",
       "      <th>...</th>\n",
       "      <th>entity_total_spent_value</th>\n",
       "      <th>entity_total_tokens_received</th>\n",
       "      <th>entity_total_tokens_spent</th>\n",
       "      <th>labels</th>\n",
       "      <th>labels_count</th>\n",
       "      <th>no_txs</th>\n",
       "      <th>token_values</th>\n",
       "      <th>value_eur</th>\n",
       "      <th>value_usd</th>\n",
       "      <th>value_value</th>\n",
       "    </tr>\n",
       "  </thead>\n",
       "  <tbody>\n",
       "    <tr>\n",
       "      <th>0</th>\n",
       "      <td>NaN</td>\n",
       "      <td>NaN</td>\n",
       "      <td>219247462</td>\n",
       "      <td>NaN</td>\n",
       "      <td>0.0</td>\n",
       "      <td>0.0</td>\n",
       "      <td>0</td>\n",
       "      <td>NaN</td>\n",
       "      <td>NaN</td>\n",
       "      <td>NaN</td>\n",
       "      <td>...</td>\n",
       "      <td>108000000</td>\n",
       "      <td>NaN</td>\n",
       "      <td>NaN</td>\n",
       "      <td>NaN</td>\n",
       "      <td>0</td>\n",
       "      <td>1</td>\n",
       "      <td>NaN</td>\n",
       "      <td>193.25</td>\n",
       "      <td>208.08</td>\n",
       "      <td>20000000</td>\n",
       "    </tr>\n",
       "    <tr>\n",
       "      <th>1</th>\n",
       "      <td>NaN</td>\n",
       "      <td>NaN</td>\n",
       "      <td>219247462</td>\n",
       "      <td>NaN</td>\n",
       "      <td>0.0</td>\n",
       "      <td>0.0</td>\n",
       "      <td>0</td>\n",
       "      <td>NaN</td>\n",
       "      <td>NaN</td>\n",
       "      <td>NaN</td>\n",
       "      <td>...</td>\n",
       "      <td>18685630</td>\n",
       "      <td>NaN</td>\n",
       "      <td>NaN</td>\n",
       "      <td>NaN</td>\n",
       "      <td>0</td>\n",
       "      <td>1</td>\n",
       "      <td>NaN</td>\n",
       "      <td>180.55</td>\n",
       "      <td>194.40</td>\n",
       "      <td>18685630</td>\n",
       "    </tr>\n",
       "  </tbody>\n",
       "</table>\n",
       "<p>2 rows × 54 columns</p>\n",
       "</div>"
      ],
      "text/plain": [
       "   _error  _info  _request_entity  entity_actors  entity_balance_eur   \n",
       "0     NaN    NaN        219247462            NaN                 0.0  \\\n",
       "1     NaN    NaN        219247462            NaN                 0.0   \n",
       "\n",
       "   entity_balance_usd  entity_balance_value  entity_best_address_tag_abuse   \n",
       "0                 0.0                     0                            NaN  \\\n",
       "1                 0.0                     0                            NaN   \n",
       "\n",
       "   entity_best_address_tag_actor  entity_best_address_tag_address  ...   \n",
       "0                            NaN                              NaN  ...  \\\n",
       "1                            NaN                              NaN  ...   \n",
       "\n",
       "   entity_total_spent_value  entity_total_tokens_received   \n",
       "0                 108000000                           NaN  \\\n",
       "1                  18685630                           NaN   \n",
       "\n",
       "   entity_total_tokens_spent  labels  labels_count  no_txs  token_values   \n",
       "0                        NaN     NaN             0       1           NaN  \\\n",
       "1                        NaN     NaN             0       1           NaN   \n",
       "\n",
       "   value_eur  value_usd  value_value  \n",
       "0     193.25     208.08     20000000  \n",
       "1     180.55     194.40     18685630  \n",
       "\n",
       "[2 rows x 54 columns]"
      ]
     },
     "execution_count": 19,
     "metadata": {},
     "output_type": "execute_result"
    }
   ],
   "source": [
    "respDF"
   ]
  },
  {
   "cell_type": "markdown",
   "id": "80a80ffd",
   "metadata": {},
   "source": [
    "We filter the result and see the relations between known entity IDs. We also see two known receiving entities."
   ]
  },
  {
   "cell_type": "code",
   "execution_count": 20,
   "id": "a48854f3",
   "metadata": {},
   "outputs": [
    {
     "data": {
      "text/html": [
       "<div>\n",
       "<style scoped>\n",
       "    .dataframe tbody tr th:only-of-type {\n",
       "        vertical-align: middle;\n",
       "    }\n",
       "\n",
       "    .dataframe tbody tr th {\n",
       "        vertical-align: top;\n",
       "    }\n",
       "\n",
       "    .dataframe thead th {\n",
       "        text-align: right;\n",
       "    }\n",
       "</style>\n",
       "<table border=\"1\" class=\"dataframe\">\n",
       "  <thead>\n",
       "    <tr style=\"text-align: right;\">\n",
       "      <th></th>\n",
       "      <th>src</th>\n",
       "      <th>dst</th>\n",
       "      <th>dst_label</th>\n",
       "      <th>no_txs</th>\n",
       "    </tr>\n",
       "  </thead>\n",
       "  <tbody>\n",
       "  </tbody>\n",
       "</table>\n",
       "</div>"
      ],
      "text/plain": [
       "Empty DataFrame\n",
       "Columns: [src, dst, dst_label, no_txs]\n",
       "Index: []"
      ]
     },
     "execution_count": 20,
     "metadata": {},
     "output_type": "execute_result"
    }
   ],
   "source": [
    "resultDF = respDF[['_request_entity', 'entity_entity', 'labels', 'no_txs']] \\\n",
    "    .rename(columns={'_request_entity': 'src', 'entity_entity': 'dst', 'labels': 'dst_label'}) \\\n",
    "    .dropna()\n",
    "resultDF"
   ]
  }
 ],
 "metadata": {
  "kernelspec": {
   "display_name": "Python 3 (ipykernel)",
   "language": "python",
   "name": "python3"
  },
  "language_info": {
   "codemirror_mode": {
    "name": "ipython",
    "version": 3
   },
   "file_extension": ".py",
   "mimetype": "text/x-python",
   "name": "python",
   "nbconvert_exporter": "python",
   "pygments_lexer": "ipython3",
   "version": "3.11.3"
  }
 },
 "nbformat": 4,
 "nbformat_minor": 5
}
